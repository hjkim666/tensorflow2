{
 "cells": [
  {
   "cell_type": "markdown",
   "metadata": {},
   "source": [
    "# Array"
   ]
  },
  {
   "cell_type": "code",
   "execution_count": 1,
   "metadata": {
    "collapsed": false
   },
   "outputs": [
    {
     "name": "stdout",
     "output_type": "stream",
     "text": [
      "<type 'numpy.ndarray'>\n"
     ]
    }
   ],
   "source": [
    "import numpy as np\n",
    "\n",
    "a = np.array([1, 2, 3])  # rank가 1인 배열 생성\n",
    "print type(a)            # 출력 \"<type 'numpy.ndarray'>\"\n"
   ]
  },
  {
   "cell_type": "code",
   "execution_count": 2,
   "metadata": {
    "collapsed": false
   },
   "outputs": [
    {
     "name": "stdout",
     "output_type": "stream",
     "text": [
      "(3,)\n",
      "1 2 3\n",
      "[5 2 3]\n",
      "(2, 3)\n",
      "1 2 4\n"
     ]
    }
   ],
   "source": [
    "print a.shape            # 출력 \"(3,)\"\n",
    "print a[0], a[1], a[2]   # 출력 \"1 2 3\"\n",
    "a[0] = 5                 # 요소를 변경\n",
    "print a                  # 출력 \"[5, 2, 3]\"\n",
    "\n",
    "b = np.array([[1,2,3],[4,5,6]])   # rank가 2인 배열 생성\n",
    "print b.shape                     # 출력 \"(2, 3)\"\n",
    "print b[0, 0], b[0, 1], b[1, 0]   # 출력 \"1 2 4\"\n"
   ]
  },
  {
   "cell_type": "code",
   "execution_count": 3,
   "metadata": {
    "collapsed": false
   },
   "outputs": [
    {
     "name": "stdout",
     "output_type": "stream",
     "text": [
      "[[ 0.  0.]\n",
      " [ 0.  0.]]\n",
      "[[ 1.  1.]]\n",
      "[[7 7]\n",
      " [7 7]]\n",
      "[[ 1.  0.]\n",
      " [ 0.  1.]]\n",
      "[[ 0.80550358  0.53564058]\n",
      " [ 0.99444865  0.30261077]]\n"
     ]
    }
   ],
   "source": [
    "import numpy as np\n",
    "\n",
    "a = np.zeros((2,2))  # 모든 값이 0인 배열 생성\n",
    "print a              # 출력 \"[[ 0.  0.]\n",
    "                     #       [ 0.  0.]]\"\n",
    "\n",
    "b = np.ones((1,2))   # 모든 값이 1인 배열 생성\n",
    "print b              # 출력 \"[[ 1.  1.]]\"\n",
    "\n",
    "c = np.full((2,2), 7) # 모든 값이 특정 상수인 배열 생성\n",
    "print c               # 출력 \"[[ 7.  7.]\n",
    "                      #       [ 7.  7.]]\"\n",
    "\n",
    "d = np.eye(2)        # 2x2 단위행렬 생성\n",
    "print d              # 출력 \"[[ 1.  0.]\n",
    "                     #       [ 0.  1.]]\"\n",
    "\n",
    "e = np.random.random((2,2)) # 임의의 값으로 채워진 배열 생성\n",
    "print e                     # 임의의 값 출력 \"[[ 0.91940167  0.08143941]\n",
    "                            #                  [ 0.68744134  0.87236687]]\"\n"
   ]
  },
  {
   "cell_type": "markdown",
   "metadata": {},
   "source": [
    "# Array index"
   ]
  },
  {
   "cell_type": "code",
   "execution_count": 4,
   "metadata": {
    "collapsed": false
   },
   "outputs": [
    {
     "name": "stdout",
     "output_type": "stream",
     "text": [
      "2\n",
      "77\n"
     ]
    }
   ],
   "source": [
    "import numpy as np\n",
    "\n",
    "# Create the following rank 2 array with shape (3, 4)\n",
    "# [[ 1  2  3  4]\n",
    "#  [ 5  6  7  8]\n",
    "#  [ 9 10 11 12]]\n",
    "a = np.array([[1,2,3,4], [5,6,7,8], [9,10,11,12]])\n",
    "\n",
    "# 슬라이싱을 이용하여 첫 두 행과 1열, 2열로 이루어진 부분배열을 만들어 봅시다;\n",
    "# b는 shape가 (2,2)인 배열이 됩니다:\n",
    "# [[2 3]\n",
    "#  [6 7]]\n",
    "b = a[:2, 1:3]\n",
    "\n",
    "# 슬라이싱된 배열은 원본 배열과 같은 데이터를 참조합니다, 즉 슬라이싱된 배열을 수정하면\n",
    "# 원본 배열 역시 수정됩니다.\n",
    "print a[0, 1]   # 출력 \"2\"\n",
    "b[0, 0] = 77    # b[0, 0]은 a[0, 1]과 같은 데이터입니다\n",
    "print a[0, 1]   # 출력 \"77\"\n"
   ]
  },
  {
   "cell_type": "code",
   "execution_count": 5,
   "metadata": {
    "collapsed": false
   },
   "outputs": [
    {
     "name": "stdout",
     "output_type": "stream",
     "text": [
      "[77  6 10] (3,)\n",
      "[[77]\n",
      " [ 6]\n",
      " [10]] (3, 1)\n"
     ]
    }
   ],
   "source": [
    "# 행이 아닌 열의 경우에도 마찬가지입니다:\n",
    "col_r1 = a[:, 1]\n",
    "col_r2 = a[:, 1:2]\n",
    "print col_r1, col_r1.shape  # 출력 \"[ 2  6 10] (3,)\"\n",
    "print col_r2, col_r2.shape  # 출력 \"[[ 2]\n",
    "                            #       [ 6]\n",
    "                            #       [10]] (3, 1)\"\n",
    "\n"
   ]
  },
  {
   "cell_type": "code",
   "execution_count": 6,
   "metadata": {
    "collapsed": false
   },
   "outputs": [
    {
     "name": "stdout",
     "output_type": "stream",
     "text": [
      "[1 4 5]\n",
      "[1 4 5]\n",
      "[2 2]\n",
      "[2 2]\n"
     ]
    }
   ],
   "source": [
    "import numpy as np\n",
    "\n",
    "a = np.array([[1,2], [3, 4], [5, 6]])\n",
    "\n",
    "# 정수 배열 인덱싱의 예.\n",
    "# 반환되는 배열의 shape는 (3,)\n",
    "print a[[0, 1, 2], [0, 1, 0]]  # 출력 \"[1 4 5]\"\n",
    "\n",
    "# 위에서 본 정수 배열 인덱싱 예제는 다음과 동일합니다:\n",
    "print np.array([a[0, 0], a[1, 1], a[2, 0]])  # 출력 \"[1 4 5]\"\n",
    "\n",
    "# 정수 배열 인덱싱을 사용할 때,\n",
    "# 원본 배열의 같은 요소를 재사용할 수 있습니다:\n",
    "print a[[0, 0], [1, 1]]  # 출력 \"[2 2]\"\n",
    "\n",
    "# 위 예제는 다음과 동일합니다\n",
    "print np.array([a[0, 1], a[0, 1]])  # 출력 \"[2 2]\"\n"
   ]
  },
  {
   "cell_type": "code",
   "execution_count": 7,
   "metadata": {
    "collapsed": false
   },
   "outputs": [
    {
     "name": "stdout",
     "output_type": "stream",
     "text": [
      "[[ 1  2  3]\n",
      " [ 4  5  6]\n",
      " [ 7  8  9]\n",
      " [10 11 12]]\n"
     ]
    }
   ],
   "source": [
    "import numpy as np\n",
    "\n",
    "# 요소를 선택할 새로운 배열 생성\n",
    "a = np.array([[1,2,3], [4,5,6], [7,8,9], [10, 11, 12]])\n",
    "\n",
    "print a  # 출력 \"array([[ 1,  2,  3],\n",
    "         #             [ 4,  5,  6],\n",
    "         #             [ 7,  8,  9],\n",
    "         #             [10, 11, 12]])\"\n",
    "\n",
    "# 인덱스를 저장할 배열 생성\n"
   ]
  },
  {
   "cell_type": "code",
   "execution_count": 9,
   "metadata": {
    "collapsed": false
   },
   "outputs": [
    {
     "name": "stdout",
     "output_type": "stream",
     "text": [
      "[[False False]\n",
      " [ True  True]\n",
      " [ True  True]]\n",
      "[3 4 5 6]\n",
      "[3 4 5 6]\n"
     ]
    }
   ],
   "source": [
    "import numpy as np\n",
    "\n",
    "a = np.array([[1,2], [3, 4], [5, 6]])\n",
    "\n",
    "bool_idx = (a > 2)  # 2보다 큰 a의 요소를 찾습니다;\n",
    "                    # 이 코드는 a와 shape가 같고 불리언 자료형을 요소로 하는 numpy 배열을 반환합니다,\n",
    "                    # bool_idx의 각 요소는 동일한 위치에 있는 a의\n",
    "                    # 요소가 2보다 큰지를 말해줍니다.\n",
    "\n",
    "print bool_idx      # 출력 \"[[False False]\n",
    "                    #       [ True  True]\n",
    "                    #       [ True  True]]\"\n",
    "\n",
    "# 불리언 배열 인덱싱을 통해 bool_idx에서\n",
    "# 참 값을 가지는 요소로 구성되는\n",
    "# rank 1인 배열을 구성할 수 있습니다.\n",
    "print a[bool_idx]  # 출력 \"[3 4 5 6]\"\n",
    "\n",
    "# 위에서 한 모든것을 한 문장으로 할 수 있습니다:\n",
    "print a[a > 2]     # 출력 \"[3 4 5 6]\"\n",
    "\n"
   ]
  },
  {
   "cell_type": "code",
   "execution_count": 18,
   "metadata": {
    "collapsed": false
   },
   "outputs": [
    {
     "name": "stdout",
     "output_type": "stream",
     "text": [
      "int64\n",
      "float64\n",
      "int64\n"
     ]
    }
   ],
   "source": [
    "import numpy as np\n",
    "\n",
    "x = np.array([1, 2])  # Numpy가 자료형을 추측해서 선택\n",
    "print x.dtype         # 출력 \"int64\"\n",
    "\n",
    "x = np.array([1.0, 2.0])  # Numpy가 자료형을 추측해서 선택\n",
    "print x.dtype             # 출력 \"float64\"\n",
    "\n",
    "x = np.array([1, 2], dtype=np.int64)  # 특정 자료형을 명시적으로 지정\n",
    "print x.dtype                         # 출력 \"int64\"\n"
   ]
  },
  {
   "cell_type": "code",
   "execution_count": 20,
   "metadata": {
    "collapsed": false
   },
   "outputs": [
    {
     "name": "stdout",
     "output_type": "stream",
     "text": [
      "[[  6.   8.]\n",
      " [ 10.  12.]]\n",
      "[[  6.   8.]\n",
      " [ 10.  12.]]\n",
      "[[-4. -4.]\n",
      " [-4. -4.]]\n",
      "[[-4. -4.]\n",
      " [-4. -4.]]\n"
     ]
    }
   ],
   "source": [
    "import numpy as np\n",
    "\n",
    "x = np.array([[1,2],[3,4]], dtype=np.float64)\n",
    "y = np.array([[5,6],[7,8]], dtype=np.float64)\n",
    "\n",
    "# 요소별 합; 둘 다 다음의 배열을 만듭니다\n",
    "# [[ 6.0  8.0]\n",
    "#  [10.0 12.0]]\n",
    "print x + y\n",
    "print np.add(x, y)\n",
    "\n",
    "# 요소별 차; 둘 다 다음의 배열을 만듭니다\n",
    "# [[-4.0 -4.0]\n",
    "#  [-4.0 -4.0]]\n",
    "print x - y\n",
    "print np.subtract(x, y)\n"
   ]
  },
  {
   "cell_type": "code",
   "execution_count": 21,
   "metadata": {
    "collapsed": false
   },
   "outputs": [
    {
     "name": "stdout",
     "output_type": "stream",
     "text": [
      "[[  5.  12.]\n",
      " [ 21.  32.]]\n",
      "[[  5.  12.]\n",
      " [ 21.  32.]]\n",
      "[[ 0.2         0.33333333]\n",
      " [ 0.42857143  0.5       ]]\n",
      "[[ 0.2         0.33333333]\n",
      " [ 0.42857143  0.5       ]]\n",
      "[[ 1.          1.41421356]\n",
      " [ 1.73205081  2.        ]]\n"
     ]
    }
   ],
   "source": [
    "# 요소별 곱; 둘 다 다음의 배열을 만듭니다\n",
    "# [[ 5.0 12.0]\n",
    "#  [21.0 32.0]]\n",
    "print x * y\n",
    "print np.multiply(x, y)\n",
    "\n",
    "# 요소별 나눗셈; 둘 다 다음의 배열을 만듭니다\n",
    "# [[ 0.2         0.33333333]\n",
    "#  [ 0.42857143  0.5       ]]\n",
    "print x / y\n",
    "print np.divide(x, y)\n",
    "\n",
    "# 요소별 제곱근; 다음의 배열을 만듭니다\n",
    "# [[ 1.          1.41421356]\n",
    "#  [ 1.73205081  2.        ]]\n",
    "print np.sqrt(x)\n"
   ]
  },
  {
   "cell_type": "code",
   "execution_count": 22,
   "metadata": {
    "collapsed": false
   },
   "outputs": [
    {
     "name": "stdout",
     "output_type": "stream",
     "text": [
      "219\n",
      "219\n",
      "[29 67]\n",
      "[29 67]\n",
      "[[19 22]\n",
      " [43 50]]\n",
      "[[19 22]\n",
      " [43 50]]\n"
     ]
    }
   ],
   "source": [
    "import numpy as np\n",
    "\n",
    "x = np.array([[1,2],[3,4]])\n",
    "y = np.array([[5,6],[7,8]])\n",
    "\n",
    "v = np.array([9,10])\n",
    "w = np.array([11, 12])\n",
    "\n",
    "# 벡터의 내적; 둘 다 결과는 219\n",
    "print v.dot(w)\n",
    "print np.dot(v, w)\n",
    "\n",
    "# 행렬과 벡터의 곱; 둘 다 결과는 rank 1인 배열 [29 67]\n",
    "print x.dot(v)\n",
    "print np.dot(x, v)\n",
    "\n",
    "# 행렬곱; 둘 다 결과는 rank 2인 배열\n",
    "# [[19 22]\n",
    "#  [43 50]]\n",
    "print x.dot(y)\n",
    "print np.dot(x, y)\n"
   ]
  },
  {
   "cell_type": "code",
   "execution_count": 23,
   "metadata": {
    "collapsed": false
   },
   "outputs": [
    {
     "name": "stdout",
     "output_type": "stream",
     "text": [
      "10\n",
      "[4 6]\n",
      "[3 7]\n"
     ]
    }
   ],
   "source": [
    "import numpy as np\n",
    "\n",
    "x = np.array([[1,2],[3,4]])\n",
    "\n",
    "print np.sum(x)  # 모든 요소를 합한 값을 연산; 출력 \"10\"\n",
    "print np.sum(x, axis=0)  # 각 열에 대한 합을 연산; 출력 \"[4 6]\"\n",
    "print np.sum(x, axis=1)  # 각 행에 대한 합을 연산; 출력 \"[3 7]\"\n"
   ]
  },
  {
   "cell_type": "code",
   "execution_count": 24,
   "metadata": {
    "collapsed": false
   },
   "outputs": [
    {
     "name": "stdout",
     "output_type": "stream",
     "text": [
      "[[1 2]\n",
      " [3 4]]\n",
      "[[1 3]\n",
      " [2 4]]\n",
      "[1 2 3]\n",
      "[1 2 3]\n"
     ]
    }
   ],
   "source": [
    "import numpy as np\n",
    "\n",
    "x = np.array([[1,2], [3,4]])\n",
    "print x    # 출력 \"[[1 2]\n",
    "           #          [3 4]]\"\n",
    "print x.T  # 출력 \"[[1 3]\n",
    "           #          [2 4]]\"\n",
    "\n",
    "# rank 1인 배열을 전치할 경우 아무 일도 일어나지 않습니다:\n",
    "v = np.array([1,2,3])\n",
    "print v    # 출력 \"[1 2 3]\"\n",
    "print v.T  # 출력 \"[1 2 3]\"\n"
   ]
  },
  {
   "cell_type": "code",
   "execution_count": null,
   "metadata": {
    "collapsed": true
   },
   "outputs": [],
   "source": []
  }
 ],
 "metadata": {
  "kernelspec": {
   "display_name": "Python 2",
   "language": "python",
   "name": "python2"
  },
  "language_info": {
   "codemirror_mode": {
    "name": "ipython",
    "version": 2
   },
   "file_extension": ".py",
   "mimetype": "text/x-python",
   "name": "python",
   "nbconvert_exporter": "python",
   "pygments_lexer": "ipython2",
   "version": "2.7.12"
  }
 },
 "nbformat": 4,
 "nbformat_minor": 2
}
